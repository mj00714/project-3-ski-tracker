{
 "cells": [
  {
   "cell_type": "code",
   "execution_count": 6,
   "metadata": {},
   "outputs": [
    {
     "data": {
      "text/plain": [
       "[{'name': 'Palisades Tahoe',\n",
       "  'region': 'West',\n",
       "  'country': 'USA',\n",
       "  'pass': 'Ikon'},\n",
       " {'name': 'Mammoth Mountain',\n",
       "  'region': 'West',\n",
       "  'country': 'USA',\n",
       "  'pass': 'Ikon'},\n",
       " {'name': 'June Mountain', 'region': 'West', 'country': 'USA', 'pass': 'Ikon'},\n",
       " {'name': 'Big Bear Mountain Resort',\n",
       "  'region': 'West',\n",
       "  'country': 'USA',\n",
       "  'pass': 'Ikon'},\n",
       " {'name': 'Snow Valley', 'region': 'West', 'country': 'USA', 'pass': 'Ikon'}]"
      ]
     },
     "execution_count": 6,
     "metadata": {},
     "output_type": "execute_result"
    }
   ],
   "source": [
    "# create a for loop to input the list of resorts\n",
    "\n",
    "# resort_list = []\n",
    "\n",
    "while True:\n",
    "    name = (input('enter name: '))\n",
    "\n",
    "    # check to see if the user wants to exit\n",
    "    if name.lower() == 'exit':\n",
    "        break\n",
    "\n",
    "    region = input('enter the region: ')\n",
    "    country = input('enter the country: ')\n",
    "    pass_type = input('enter the pass type: ')\n",
    "\n",
    "    resort_dict = {'name': name, 'region': region, 'country': country, 'pass': pass_type}\n",
    "    resort_list.append(resort_dict)\n",
    "\n",
    "# print the final list of dictionaries\n",
    "resort_list"
   ]
  },
  {
   "cell_type": "code",
   "execution_count": null,
   "metadata": {},
   "outputs": [],
   "source": []
  }
 ],
 "metadata": {
  "kernelspec": {
   "display_name": "dev",
   "language": "python",
   "name": "python3"
  },
  "language_info": {
   "codemirror_mode": {
    "name": "ipython",
    "version": 3
   },
   "file_extension": ".py",
   "mimetype": "text/x-python",
   "name": "python",
   "nbconvert_exporter": "python",
   "pygments_lexer": "ipython3",
   "version": "3.11.4"
  }
 },
 "nbformat": 4,
 "nbformat_minor": 2
}
